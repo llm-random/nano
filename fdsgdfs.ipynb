{
 "cells": [
  {
   "cell_type": "code",
   "execution_count": 1,
   "id": "5be3e6b7",
   "metadata": {},
   "outputs": [
    {
     "name": "stdout",
     "output_type": "stream",
     "text": [
      "XDDD\n"
     ]
    }
   ],
   "source": [
    "import torch\n",
    "from src.projected_compression.pruning import generate_prune_mask_vectorized"
   ]
  },
  {
   "cell_type": "code",
   "execution_count": 2,
   "id": "63167833",
   "metadata": {},
   "outputs": [],
   "source": [
    "\n",
    "\n",
    "in_features = 128  # number of input features\n",
    "out_features = 64  # number of output features\n",
    "\n",
    "# Create a random 2D weight tensor\n",
    "W = torch.randn(out_features, in_features) "
   ]
  },
  {
   "cell_type": "code",
   "execution_count": 4,
   "id": "ac2a8511",
   "metadata": {},
   "outputs": [],
   "source": [
    "from src.projected_compression.pruning import generate_prune_mask_vectorized"
   ]
  },
  {
   "cell_type": "code",
   "execution_count": 7,
   "id": "86ff7ce3",
   "metadata": {},
   "outputs": [],
   "source": [
    "from src.projected_compression.pruning import generate_prune_mask_vectorized\n",
    "lel = generate_prune_mask_vectorized(W, 1,2, None)"
   ]
  },
  {
   "cell_type": "code",
   "execution_count": 12,
   "id": "e6133545",
   "metadata": {},
   "outputs": [
    {
     "name": "stdout",
     "output_type": "stream",
     "text": [
      "tensor(64)\n",
      "tensor(64)\n",
      "tensor(64)\n",
      "tensor(64)\n",
      "tensor(64)\n",
      "tensor(64)\n",
      "tensor(64)\n",
      "tensor(64)\n",
      "tensor(64)\n",
      "tensor(64)\n",
      "tensor(64)\n",
      "tensor(64)\n",
      "tensor(64)\n",
      "tensor(64)\n",
      "tensor(64)\n",
      "tensor(64)\n",
      "tensor(64)\n",
      "tensor(64)\n",
      "tensor(64)\n",
      "tensor(64)\n",
      "tensor(64)\n",
      "tensor(64)\n",
      "tensor(64)\n",
      "tensor(64)\n",
      "tensor(64)\n",
      "tensor(64)\n",
      "tensor(64)\n",
      "tensor(64)\n",
      "tensor(64)\n",
      "tensor(64)\n",
      "tensor(64)\n",
      "tensor(64)\n",
      "tensor(64)\n",
      "tensor(64)\n",
      "tensor(64)\n",
      "tensor(64)\n",
      "tensor(64)\n",
      "tensor(64)\n",
      "tensor(64)\n",
      "tensor(64)\n",
      "tensor(64)\n",
      "tensor(64)\n",
      "tensor(64)\n",
      "tensor(64)\n",
      "tensor(64)\n",
      "tensor(64)\n",
      "tensor(64)\n",
      "tensor(64)\n",
      "tensor(64)\n",
      "tensor(64)\n",
      "tensor(64)\n",
      "tensor(64)\n",
      "tensor(64)\n",
      "tensor(64)\n",
      "tensor(64)\n",
      "tensor(64)\n",
      "tensor(64)\n",
      "tensor(64)\n",
      "tensor(64)\n",
      "tensor(64)\n",
      "tensor(64)\n",
      "tensor(64)\n",
      "tensor(64)\n",
      "tensor(64)\n"
     ]
    }
   ],
   "source": [
    "for i in range(64):\n",
    "    print(lel[i].sum())\n"
   ]
  },
  {
   "cell_type": "code",
   "execution_count": null,
   "id": "cd2823d2",
   "metadata": {},
   "outputs": [],
   "source": []
  }
 ],
 "metadata": {
  "kernelspec": {
   "display_name": ".venv (3.12.3)",
   "language": "python",
   "name": "python3"
  },
  "language_info": {
   "codemirror_mode": {
    "name": "ipython",
    "version": 3
   },
   "file_extension": ".py",
   "mimetype": "text/x-python",
   "name": "python",
   "nbconvert_exporter": "python",
   "pygments_lexer": "ipython3",
   "version": "3.12.3"
  }
 },
 "nbformat": 4,
 "nbformat_minor": 5
}
